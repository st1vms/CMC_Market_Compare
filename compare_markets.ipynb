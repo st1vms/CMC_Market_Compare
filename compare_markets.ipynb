{
 "cells": [
  {
   "cell_type": "markdown",
   "metadata": {},
   "source": [
    "## CoinMarketCap Compare Markets"
   ]
  },
  {
   "cell_type": "code",
   "execution_count": 1,
   "metadata": {},
   "outputs": [],
   "source": [
    "# Configuration variables\n",
    "\n",
    "CRYPTO_NAME = \"dogwifhat\"\n",
    "MARKET_FILTER = \"binance\"\n",
    "\n",
    "# False -> DESC, True -> ASC\n",
    "SORT_ASC = False"
   ]
  },
  {
   "cell_type": "code",
   "execution_count": 2,
   "metadata": {},
   "outputs": [
    {
     "name": "stdout",
     "output_type": "stream",
     "text": [
      "Requirement already satisfied: pandas in c:\\users\\stefa\\appdata\\local\\programs\\python\\python311\\lib\\site-packages (2.2.2)\n",
      "Requirement already satisfied: numpy>=1.23.2 in c:\\users\\stefa\\appdata\\local\\programs\\python\\python311\\lib\\site-packages (from pandas) (1.26.4)\n",
      "Requirement already satisfied: python-dateutil>=2.8.2 in c:\\users\\stefa\\appdata\\roaming\\python\\python311\\site-packages (from pandas) (2.9.0.post0)\n",
      "Requirement already satisfied: pytz>=2020.1 in c:\\users\\stefa\\appdata\\local\\programs\\python\\python311\\lib\\site-packages (from pandas) (2024.1)\n",
      "Requirement already satisfied: tzdata>=2022.7 in c:\\users\\stefa\\appdata\\local\\programs\\python\\python311\\lib\\site-packages (from pandas) (2024.1)\n",
      "Requirement already satisfied: six>=1.5 in c:\\users\\stefa\\appdata\\roaming\\python\\python311\\site-packages (from python-dateutil>=2.8.2->pandas) (1.16.0)\n"
     ]
    }
   ],
   "source": [
    "# Install requirements\n",
    "!pip install pandas"
   ]
  },
  {
   "cell_type": "code",
   "execution_count": 3,
   "metadata": {},
   "outputs": [],
   "source": [
    "# Import the libraries\n",
    "import json\n",
    "from dataclasses import dataclass\n",
    "import pandas as pd\n",
    "from cmc_market_pairs import download_market_pairs_json\n",
    "\n",
    "# Configure\n",
    "SLUG = CRYPTO_NAME.lower().replace(\" \", \"-\")\n",
    "OUTPUT_FILE = f\"{SLUG}.json\""
   ]
  },
  {
   "cell_type": "code",
   "execution_count": 4,
   "metadata": {},
   "outputs": [
    {
     "name": "stdout",
     "output_type": "stream",
     "text": [
      "\n",
      "Scraped results 100/293\n",
      "Scraped results 293/293\n",
      "Saving file into dogwifhat.json\n"
     ]
    }
   ],
   "source": [
    "# Download the json data\n",
    "download_market_pairs_json(SLUG, OUTPUT_FILE)"
   ]
  },
  {
   "cell_type": "code",
   "execution_count": 5,
   "metadata": {},
   "outputs": [],
   "source": [
    "# Retrieve pairs along price, by filtering market\n",
    "\n",
    "\n",
    "@dataclass\n",
    "class PairData:\n",
    "    pair:str\n",
    "    price:str\n",
    "\n",
    "\n",
    "with open(OUTPUT_FILE, \"r\", encoding=\"utf-8\") as fp:\n",
    "    data = json.load(fp)\n",
    "\n",
    "pair_data = []\n",
    "for entry in data:\n",
    "    if entry[\"exchangeSlug\"] != MARKET_FILTER.lower():\n",
    "        continue\n",
    "    pair = PairData(entry[\"marketPair\"], float(entry[\"price\"]))\n",
    "    pair_data.append(pair)"
   ]
  },
  {
   "cell_type": "code",
   "execution_count": 6,
   "metadata": {},
   "outputs": [
    {
     "name": "stdout",
     "output_type": "stream",
     "text": [
      "Total number of pairs: 7\n"
     ]
    },
    {
     "data": {
      "text/html": [
       "<div>\n",
       "<style scoped>\n",
       "    .dataframe tbody tr th:only-of-type {\n",
       "        vertical-align: middle;\n",
       "    }\n",
       "\n",
       "    .dataframe tbody tr th {\n",
       "        vertical-align: top;\n",
       "    }\n",
       "\n",
       "    .dataframe thead th {\n",
       "        text-align: right;\n",
       "    }\n",
       "</style>\n",
       "<table border=\"1\" class=\"dataframe\">\n",
       "  <thead>\n",
       "    <tr style=\"text-align: right;\">\n",
       "      <th></th>\n",
       "      <th>pair</th>\n",
       "      <th>price</th>\n",
       "    </tr>\n",
       "  </thead>\n",
       "  <tbody>\n",
       "    <tr>\n",
       "      <th>0</th>\n",
       "      <td>WIF/BRL</td>\n",
       "      <td>3.848576</td>\n",
       "    </tr>\n",
       "    <tr>\n",
       "      <th>1</th>\n",
       "      <td>WIF/TRY</td>\n",
       "      <td>3.842355</td>\n",
       "    </tr>\n",
       "    <tr>\n",
       "      <th>2</th>\n",
       "      <td>WIF/USDT</td>\n",
       "      <td>3.827091</td>\n",
       "    </tr>\n",
       "    <tr>\n",
       "      <th>3</th>\n",
       "      <td>WIF/FDUSD</td>\n",
       "      <td>3.826539</td>\n",
       "    </tr>\n",
       "    <tr>\n",
       "      <th>4</th>\n",
       "      <td>WIF/BTC</td>\n",
       "      <td>3.817336</td>\n",
       "    </tr>\n",
       "    <tr>\n",
       "      <th>5</th>\n",
       "      <td>WIF/USDC</td>\n",
       "      <td>3.815364</td>\n",
       "    </tr>\n",
       "    <tr>\n",
       "      <th>6</th>\n",
       "      <td>WIF/EUR</td>\n",
       "      <td>3.792855</td>\n",
       "    </tr>\n",
       "  </tbody>\n",
       "</table>\n",
       "</div>"
      ],
      "text/plain": [
       "        pair     price\n",
       "0    WIF/BRL  3.848576\n",
       "1    WIF/TRY  3.842355\n",
       "2   WIF/USDT  3.827091\n",
       "3  WIF/FDUSD  3.826539\n",
       "4    WIF/BTC  3.817336\n",
       "5   WIF/USDC  3.815364\n",
       "6    WIF/EUR  3.792855"
      ]
     },
     "execution_count": 6,
     "metadata": {},
     "output_type": "execute_result"
    }
   ],
   "source": [
    "\n",
    "# Sort the data by price\n",
    "pair_data = sorted(pair_data, key=lambda x: x.price, reverse=not SORT_ASC)\n",
    "\n",
    "# Display the data\n",
    "# Convert to DataFrame for better display\n",
    "df_pairs = pd.DataFrame(pair_data)\n",
    "print(f\"Total number of pairs: {len(df_pairs)}\")\n",
    "df_pairs"
   ]
  }
 ],
 "metadata": {
  "kernelspec": {
   "display_name": "Python 3",
   "language": "python",
   "name": "python3"
  },
  "language_info": {
   "codemirror_mode": {
    "name": "ipython",
    "version": 3
   },
   "file_extension": ".py",
   "mimetype": "text/x-python",
   "name": "python",
   "nbconvert_exporter": "python",
   "pygments_lexer": "ipython3",
   "version": "3.11.9"
  }
 },
 "nbformat": 4,
 "nbformat_minor": 2
}
