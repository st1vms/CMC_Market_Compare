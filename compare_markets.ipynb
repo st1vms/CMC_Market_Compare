{
 "cells": [
  {
   "cell_type": "markdown",
   "metadata": {},
   "source": [
    "## CoinMarketCap Compare Markets"
   ]
  },
  {
   "cell_type": "code",
   "execution_count": null,
   "metadata": {},
   "outputs": [],
   "source": [
    "# Configuration variables\n",
    "\n",
    "CRYPTO_NAME = \"\"\n",
    "MARKET_FILTER = \"binance\"\n",
    "\n",
    "# False -> DESC, True -> ASC\n",
    "SORT_ASC = False"
   ]
  },
  {
   "cell_type": "code",
   "execution_count": 6,
   "metadata": {},
   "outputs": [
    {
     "name": "stdout",
     "output_type": "stream",
     "text": [
      "Requirement already satisfied: pandas in c:\\users\\stefa\\appdata\\local\\programs\\python\\python311\\lib\\site-packages (2.2.2)\n",
      "Requirement already satisfied: numpy>=1.23.2 in c:\\users\\stefa\\appdata\\local\\programs\\python\\python311\\lib\\site-packages (from pandas) (1.26.4)\n",
      "Requirement already satisfied: python-dateutil>=2.8.2 in c:\\users\\stefa\\appdata\\roaming\\python\\python311\\site-packages (from pandas) (2.9.0.post0)\n",
      "Requirement already satisfied: pytz>=2020.1 in c:\\users\\stefa\\appdata\\local\\programs\\python\\python311\\lib\\site-packages (from pandas) (2024.1)\n",
      "Requirement already satisfied: tzdata>=2022.7 in c:\\users\\stefa\\appdata\\local\\programs\\python\\python311\\lib\\site-packages (from pandas) (2024.1)\n",
      "Requirement already satisfied: six>=1.5 in c:\\users\\stefa\\appdata\\roaming\\python\\python311\\site-packages (from python-dateutil>=2.8.2->pandas) (1.16.0)\n"
     ]
    }
   ],
   "source": [
    "# Install requirements\n",
    "!pip install pandas"
   ]
  },
  {
   "cell_type": "code",
   "execution_count": null,
   "metadata": {},
   "outputs": [],
   "source": [
    "# Import the libraries\n",
    "import json\n",
    "from dataclasses import dataclass\n",
    "import pandas as pd\n",
    "from cmc_market_pairs import download_market_pairs_json\n",
    "\n",
    "# Configure\n",
    "SLUG = CRYPTO_NAME.lower().replace(\" \", \"-\")\n",
    "OUTPUT_FILE = f\"{SLUG}.json\""
   ]
  },
  {
   "cell_type": "code",
   "execution_count": 8,
   "metadata": {},
   "outputs": [
    {
     "name": "stdout",
     "output_type": "stream",
     "text": [
      "\n",
      "Scraped results 100/110\n",
      "Scraped results 110/110\n",
      "Saving file into peanut-the-squirrel.json\n"
     ]
    }
   ],
   "source": [
    "# Download the json data\n",
    "download_market_pairs_json(SLUG, OUTPUT_FILE)"
   ]
  },
  {
   "cell_type": "code",
   "execution_count": 11,
   "metadata": {},
   "outputs": [],
   "source": [
    "# Retrieve pairs along price, by filtering market\n",
    "\n",
    "\n",
    "@dataclass\n",
    "class PairData:\n",
    "    pair:str\n",
    "    price:str\n",
    "\n",
    "\n",
    "with open(OUTPUT_FILE, \"r\", encoding=\"utf-8\") as fp:\n",
    "    data = json.load(fp)\n",
    "\n",
    "pair_data = []\n",
    "for entry in data:\n",
    "    if entry[\"exchangeSlug\"] != MARKET_FILTER.lower():\n",
    "        continue\n",
    "    pair = PairData(entry[\"marketPair\"], float(entry[\"price\"]))\n",
    "    pair_data.append(pair)"
   ]
  },
  {
   "cell_type": "code",
   "execution_count": 12,
   "metadata": {},
   "outputs": [
    {
     "data": {
      "text/html": [
       "<div>\n",
       "<style scoped>\n",
       "    .dataframe tbody tr th:only-of-type {\n",
       "        vertical-align: middle;\n",
       "    }\n",
       "\n",
       "    .dataframe tbody tr th {\n",
       "        vertical-align: top;\n",
       "    }\n",
       "\n",
       "    .dataframe thead th {\n",
       "        text-align: right;\n",
       "    }\n",
       "</style>\n",
       "<table border=\"1\" class=\"dataframe\">\n",
       "  <thead>\n",
       "    <tr style=\"text-align: right;\">\n",
       "      <th></th>\n",
       "      <th>pair</th>\n",
       "      <th>price</th>\n",
       "    </tr>\n",
       "  </thead>\n",
       "  <tbody>\n",
       "    <tr>\n",
       "      <th>0</th>\n",
       "      <td>PNUT/TRY</td>\n",
       "      <td>1.624975</td>\n",
       "    </tr>\n",
       "    <tr>\n",
       "      <th>1</th>\n",
       "      <td>PNUT/USDT</td>\n",
       "      <td>1.619128</td>\n",
       "    </tr>\n",
       "    <tr>\n",
       "      <th>2</th>\n",
       "      <td>PNUT/FDUSD</td>\n",
       "      <td>1.618138</td>\n",
       "    </tr>\n",
       "    <tr>\n",
       "      <th>3</th>\n",
       "      <td>PNUT/USDC</td>\n",
       "      <td>1.615731</td>\n",
       "    </tr>\n",
       "    <tr>\n",
       "      <th>4</th>\n",
       "      <td>PNUT/BTC</td>\n",
       "      <td>1.613877</td>\n",
       "    </tr>\n",
       "  </tbody>\n",
       "</table>\n",
       "</div>"
      ],
      "text/plain": [
       "         pair     price\n",
       "0    PNUT/TRY  1.624975\n",
       "1   PNUT/USDT  1.619128\n",
       "2  PNUT/FDUSD  1.618138\n",
       "3   PNUT/USDC  1.615731\n",
       "4    PNUT/BTC  1.613877"
      ]
     },
     "execution_count": 12,
     "metadata": {},
     "output_type": "execute_result"
    }
   ],
   "source": [
    "\n",
    "# Sort the data by price\n",
    "pair_data = sorted(pair_data, key=lambda x: x.price, reverse=not SORT_ASC)\n",
    "\n",
    "# Display the data\n",
    "# Convert to DataFrame for better display\n",
    "df_pairs = pd.DataFrame(pair_data)\n",
    "df_pairs"
   ]
  }
 ],
 "metadata": {
  "kernelspec": {
   "display_name": "Python 3",
   "language": "python",
   "name": "python3"
  },
  "language_info": {
   "codemirror_mode": {
    "name": "ipython",
    "version": 3
   },
   "file_extension": ".py",
   "mimetype": "text/x-python",
   "name": "python",
   "nbconvert_exporter": "python",
   "pygments_lexer": "ipython3",
   "version": "3.11.9"
  }
 },
 "nbformat": 4,
 "nbformat_minor": 2
}
