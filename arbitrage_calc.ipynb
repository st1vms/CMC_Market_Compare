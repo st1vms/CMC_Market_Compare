{
 "cells": [
  {
   "cell_type": "markdown",
   "metadata": {},
   "source": [
    "## Arbitrage profit calculator"
   ]
  },
  {
   "cell_type": "code",
   "execution_count": 1,
   "metadata": {},
   "outputs": [],
   "source": [
    "# Configuration variables\n",
    "\n",
    "BALANCE = 2.5\n",
    "\n",
    "BUY_PRICE = 3.79\n",
    "SELL_PRICE = 3.84"
   ]
  },
  {
   "cell_type": "code",
   "execution_count": 2,
   "metadata": {},
   "outputs": [],
   "source": [
    "# Define function\n",
    "\n",
    "def arbitrage_calculator(starting_price:float, selling_price:float, balance_usd:float):\n",
    "    # Calculate the quantity bought\n",
    "    quantity_bought = balance_usd / starting_price\n",
    "\n",
    "    # Calculate the profit\n",
    "    selling_value = quantity_bought * selling_price\n",
    "    profit = selling_value - balance_usd\n",
    "\n",
    "    return quantity_bought, profit"
   ]
  },
  {
   "cell_type": "code",
   "execution_count": 3,
   "metadata": {},
   "outputs": [
    {
     "name": "stdout",
     "output_type": "stream",
     "text": [
      "\n",
      "Quantity bought: 0.659631 units\n",
      "Profit: $0.03\n"
     ]
    }
   ],
   "source": [
    "# Run the function and show results\n",
    "\n",
    "quantity, profit = arbitrage_calculator(BUY_PRICE, SELL_PRICE, BALANCE)\n",
    "print(f\"\\nQuantity bought: {quantity:.6f} units\")\n",
    "print(f\"Profit: ${profit:.2f}\")"
   ]
  }
 ],
 "metadata": {
  "kernelspec": {
   "display_name": "Python 3",
   "language": "python",
   "name": "python3"
  },
  "language_info": {
   "codemirror_mode": {
    "name": "ipython",
    "version": 3
   },
   "file_extension": ".py",
   "mimetype": "text/x-python",
   "name": "python",
   "nbconvert_exporter": "python",
   "pygments_lexer": "ipython3",
   "version": "3.11.9"
  }
 },
 "nbformat": 4,
 "nbformat_minor": 2
}
