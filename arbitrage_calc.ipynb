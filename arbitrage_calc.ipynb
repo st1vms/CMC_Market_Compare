{
 "cells": [
  {
   "cell_type": "markdown",
   "metadata": {},
   "source": [
    "## Arbitrage profit calculator"
   ]
  },
  {
   "cell_type": "code",
   "execution_count": 49,
   "metadata": {},
   "outputs": [],
   "source": [
    "# Configuration variables\n",
    "\n",
    "BALANCE = 5\n",
    "\n",
    "BUY_PRICE = 3.79\n",
    "SELL_PRICE = 3.84\n",
    "\n",
    "FEE_PERCENTAGE = 0.1"
   ]
  },
  {
   "cell_type": "code",
   "execution_count": null,
   "metadata": {},
   "outputs": [],
   "source": [
    "def arbitrage_calculator(starting_price, selling_price, balance_usd, fee_percentage):\n",
    "    # Calculate fee multiplier\n",
    "    fee_multiplier = 1 - fee_percentage / 100\n",
    "\n",
    "    # Calculate the quantity bought after applying the buy fee\n",
    "    raw_quantity_bought = balance_usd / starting_price\n",
    "    fee_paid_buy = raw_quantity_bought * starting_price * (fee_percentage / 100)\n",
    "    quantity_bought = raw_quantity_bought * fee_multiplier\n",
    "\n",
    "    # Calculate the selling value and fee paid during selling\n",
    "    raw_selling_value = quantity_bought * selling_price\n",
    "    fee_paid_sell = raw_selling_value * (fee_percentage / 100)\n",
    "    selling_value = raw_selling_value * fee_multiplier\n",
    "\n",
    "    # Calculate the profit\n",
    "    profit = selling_value - balance_usd\n",
    "\n",
    "    return quantity_bought, profit, fee_paid_buy+fee_paid_sell"
   ]
  },
  {
   "cell_type": "code",
   "execution_count": 51,
   "metadata": {},
   "outputs": [
    {
     "name": "stdout",
     "output_type": "stream",
     "text": [
      "0.005 0.00506089709762533\n",
      "\n",
      "Quantity bought (after fees): 1.317942 units\n",
      "Profit (after fees): $0.06\n",
      "Total fees paid: $0.01\n"
     ]
    }
   ],
   "source": [
    "# Run the function and show results\n",
    "\n",
    "quantity, profit, fees_paid = arbitrage_calculator(BUY_PRICE, SELL_PRICE, BALANCE, FEE_PERCENTAGE)\n",
    "\n",
    "# Output results\n",
    "print(f\"\\nQuantity bought (after fees): {quantity:.6f} units\")\n",
    "print(f\"Profit (after fees): ${profit:.2f}\")\n",
    "print(f\"Total fees paid: ${fees_paid:.2f}\")"
   ]
  }
 ],
 "metadata": {
  "kernelspec": {
   "display_name": "Python 3",
   "language": "python",
   "name": "python3"
  },
  "language_info": {
   "codemirror_mode": {
    "name": "ipython",
    "version": 3
   },
   "file_extension": ".py",
   "mimetype": "text/x-python",
   "name": "python",
   "nbconvert_exporter": "python",
   "pygments_lexer": "ipython3",
   "version": "3.11.9"
  }
 },
 "nbformat": 4,
 "nbformat_minor": 2
}
